{
  "cells": [
    {
      "cell_type": "markdown",
      "metadata": {
        "id": "view-in-github",
        "colab_type": "text"
      },
      "source": [
        "<a href=\"https://colab.research.google.com/github/myProjectsRavi/nutrition-tracker-web/blob/main/Centralized_Configuration.ipynb\" target=\"_parent\"><img src=\"https://colab.research.google.com/assets/colab-badge.svg\" alt=\"Open In Colab\"/></a>"
      ]
    },
    {
      "cell_type": "code",
      "source": [
        "\"\"\"Centralized configuration management using Pydantic's BaseSettings.\"\"\"\n",
        "\n",
        "from pydantic_settings import BaseSettings, SettingsConfigDict\n",
        "import logging\n",
        "\n",
        "logger = logging.getLogger(__name__)\n",
        "\n",
        "class Settings(BaseSettings):\n",
        "    \"\"\"\n",
        "    Validates and manages environment variables for the application.\n",
        "    If a required variable is missing, the application will fail to start.\n",
        "    \"\"\"\n",
        "    model_config = SettingsConfigDict(env_file='.env', env_file_encoding='utf-8', extra='ignore')\n",
        "\n",
        "    # USDA API Configuration\n",
        "    USDA_API_KEY: str\n",
        "\n",
        "    # AWS Configuration for DynamoDB\n",
        "    AWS_ACCESS_KEY_ID: str\n",
        "    AWS_SECRET_ACCESS_KEY: str\n",
        "    AWS_REGION: str\n",
        "    DYNAMODB_TABLE_NAME: str\n",
        "\n",
        "    # RapidAPI Configuration\n",
        "    RAPIDAPI_SECRET: str\n",
        "\n",
        "    # Optional: Set a log level, defaulting to INFO\n",
        "    LOG_LEVEL: str = \"INFO\"\n",
        "\n",
        "def get_settings() -> Settings:\n",
        "    \"\"\"\n",
        "    Returns a cached instance of the Settings.\n",
        "    This function can be used as a FastAPI dependency.\n",
        "    \"\"\"\n",
        "    try:\n",
        "        return Settings()\n",
        "    except Exception as e:\n",
        "        logger.critical(f\"FATAL: Failed to load application settings. Error: {e}\")\n",
        "        # In a real-world scenario, this would prevent the app from starting.\n",
        "        raise\n",
        "\n",
        "# A single settings object to be imported by other modules\n",
        "settings = get_settings()"
      ],
      "outputs": [],
      "execution_count": null,
      "metadata": {
        "id": "FCaSROJfeTqH"
      }
    }
  ],
  "metadata": {
    "colab": {
      "provenance": [],
      "include_colab_link": true
    },
    "kernelspec": {
      "display_name": "Python 3",
      "name": "python3"
    }
  },
  "nbformat": 4,
  "nbformat_minor": 0
}